{
 "cells": [
  {
   "cell_type": "code",
   "execution_count": 20,
   "metadata": {},
   "outputs": [
    {
     "name": "stdout",
     "output_type": "stream",
     "text": [
      "     genre\n",
      "0        1\n",
      "1        1\n",
      "2        1\n",
      "3        1\n",
      "4        1\n",
      "..     ...\n",
      "378      1\n",
      "379      1\n",
      "380      1\n",
      "381      1\n",
      "382      1\n",
      "\n",
      "[383 rows x 1 columns]\n"
     ]
    }
   ],
   "source": [
    "import pandas as pd\n",
    "import pandasql as ps\n",
    "\n",
    "readAgenda = pd.read_csv(\"data/agenda.csv\")\n",
    "readAgenda\n",
    "\n",
    "q1 = 'SELECT genre FROM readAgenda WHERE genre=1'\n",
    "\n",
    "print(ps.sqldf(q1,  locals()))"
   ]
  },
  {
   "cell_type": "code",
   "execution_count": null,
   "metadata": {},
   "outputs": [],
   "source": [
    "def apagar() :\n",
    "    pass\n",
    "\n",
    "\n",
    "\n"
   ]
  },
  {
   "cell_type": "code",
   "execution_count": 23,
   "metadata": {},
   "outputs": [
    {
     "name": "stdout",
     "output_type": "stream",
     "text": [
      "19\n"
     ]
    }
   ],
   "source": [
    "diccionario = {\n",
    "    \"aimar\" : 16,\n",
    "    \"gael\" : 19,\n",
    "    \"alvaro\" : 18\n",
    "}\n",
    "\n",
    "print(diccionario[\"gael\"])\n"
   ]
  },
  {
   "cell_type": "code",
   "execution_count": 36,
   "metadata": {},
   "outputs": [],
   "source": [
    "def apagar_luz():\n",
    "    pass\n",
    "\n",
    "def apagar_tele():\n",
    "    pass\n",
    "\n",
    "def apagar(objeto_a_apagar):\n",
    "    objetos = {\n",
    "        \"luz\" : apagar_luz\n",
    "\n",
    "    }\n",
    "    print(objeto_a_apagar)\n",
    "\n",
    "def encender():\n",
    "    print(\"adios\")\n",
    "\n",
    "def musica():\n",
    "    print(\"bb\")\n",
    "\n",
    "def cambiar(desired_color):\n",
    "    print(desired_color)"
   ]
  },
  {
   "cell_type": "code",
   "execution_count": 35,
   "metadata": {},
   "outputs": [
    {
     "name": "stdout",
     "output_type": "stream",
     "text": [
      "luz\n"
     ]
    }
   ],
   "source": [
    "array_limpio = [\"apag\", \"put\", \"luz\"]\n",
    "\n",
    "\n",
    "instrucciones = {\n",
    "    \"apag\"      : apagar,\n",
    "    \"quit\"      : apagar,\n",
    "    \"termin\"    : apagar,\n",
    "    \"encen\"     : encender,\n",
    "    \"cambi\"     : cambiar\n",
    "}\n",
    "\n",
    "\n",
    "for palabra in array_limpio:\n",
    "    if palabra in instrucciones:\n",
    "        instrucciones[palabra](array_limpio[1])\n",
    "\n",
    "\n",
    "\n",
    "\n"
   ]
  },
  {
   "cell_type": "code",
   "execution_count": null,
   "metadata": {},
   "outputs": [],
   "source": []
  }
 ],
 "metadata": {
  "interpreter": {
   "hash": "8cc1a8b20fb2d03699825250a1d5ac00326c43e470168b628980085bd0612c8b"
  },
  "kernelspec": {
   "display_name": "Python 3.9.0 64-bit",
   "language": "python",
   "name": "python3"
  },
  "language_info": {
   "codemirror_mode": {
    "name": "ipython",
    "version": 3
   },
   "file_extension": ".py",
   "mimetype": "text/x-python",
   "name": "python",
   "nbconvert_exporter": "python",
   "pygments_lexer": "ipython3",
   "version": "3.9.0"
  },
  "orig_nbformat": 4
 },
 "nbformat": 4,
 "nbformat_minor": 2
}
