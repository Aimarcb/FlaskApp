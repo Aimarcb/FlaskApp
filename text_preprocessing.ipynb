{
 "cells": [
  {
   "cell_type": "code",
   "execution_count": 5,
   "metadata": {},
   "outputs": [],
   "source": [
    "import nltk\n",
    "from nltk.stem import WordNetLemmatizer\n",
    "from nltk.corpus import stopwords\n",
    "from nltk.tokenize import word_tokenize\n",
    "\n",
    "import re"
   ]
  },
  {
   "cell_type": "code",
   "execution_count": 6,
   "metadata": {},
   "outputs": [
    {
     "name": "stdout",
     "output_type": "stream",
     "text": [
      "['Apaga', 'luz']\n"
     ]
    }
   ],
   "source": [
    "text = \"Cambiar el tema\"\n",
    "\n",
    "stop_words = [\"la\", \"a\", \"el\", \"en\"]\n",
    "\n",
    "palabras_claras = [\"luz\", \"claro\", \"blanco\", \"dia\"]\n",
    "\n",
    "palabras_oscuras = [\"oscuro\", \"negro\", \"noche\"]\n",
    "\n",
    "palabras_detectoras = [\"apag\", \"encend\", \"cambi\", \"modo\", \"tema\", \"pon\"]\n",
    "\n",
    "\n",
    "texts = [ \n",
    "    \"Apaga la luz\",\n",
    "    \"Enciende la luz\",\n",
    "    \"pon tema oscuro\",\n",
    "    \"pon tema claro\",\n",
    "    \"cambia el tema\",\n",
    "    \"establece modo oscuro\",\n",
    "    \"establece modo claro\",\n",
    "    \"pon pantalla en blanco\",\n",
    "    \"pon pantalla en negro\"\n",
    "    \"cambia a modo noche\",\n",
    "    \"cambia a modo dia\"\n",
    "]\n",
    "\n",
    "palabras_a_lematizar = {\n",
    "    \"apaga\"    : \"apag\",\n",
    "    \"oscuro\"   : \"oscur\",\n",
    "    \"encendido\": \"endend\",\n",
    "    \"pon\"      : \"pon\",\n",
    "    \"cambia\"   : \"cambi\",\n",
    "    \"establece\": \"establec\",\n",
    "    \"claro\"    : \"clar\",\n",
    "    \"blanco\"   : \"blanc\",\n",
    "    \"negro\"    : \"negr\"\n",
    "}\n",
    "\n",
    "\n",
    "print([word for word in nltk.word_tokenize(texts[0]) if word not in stop_words])\n",
    "\n",
    "\n",
    "\n",
    "#tokens = []\n",
    "#\n",
    "#for text in texts:\n",
    "#    tokens.append(nltk.word_tokenize(text))\n",
    "#\n",
    "#tokens\n",
    "\n",
    "\n"
   ]
  },
  {
   "cell_type": "code",
   "execution_count": 25,
   "metadata": {},
   "outputs": [],
   "source": [
    "def temaOscuro():\n",
    "    print(\"Cambiando a tema oscuro\")\n",
    "\n",
    "\n",
    "def temaClaro():\n",
    "    print(\"claro\")\n",
    "\n",
    "\n",
    "\n",
    "diccionario = {\n",
    "    'apag'  : temaOscuro,\n",
    "    'encend': temaClaro,\n",
    "    'claro' : temaClaro,\n",
    "    'blanco': temaClaro,\n",
    "    'dia'   : temaClaro,\n",
    "    'oscuro': temaOscuro,\n",
    "    'negro' : temaOscuro,\n",
    "    'noche' : temaOscuro\n",
    "}\n",
    "    \n",
    "\n"
   ]
  },
  {
   "cell_type": "code",
   "execution_count": 26,
   "metadata": {},
   "outputs": [
    {
     "name": "stdout",
     "output_type": "stream",
     "text": [
      "hello\n"
     ]
    }
   ],
   "source": [
    "def ejemplo():\n",
    "    print(\"hello\")\n",
    "\n",
    "test = {\n",
    "    \"cambiar_tema\"  : ejemplo,\n",
    "    \"adios\"         : ejemplo,\n",
    "    \"apaga\"         : temaOscuro\n",
    "}\n",
    "\n",
    "test[\"cambiar_tema\"]()"
   ]
  },
  {
   "cell_type": "code",
   "execution_count": 27,
   "metadata": {},
   "outputs": [
    {
     "name": "stdout",
     "output_type": "stream",
     "text": [
      "Cambiando a tema oscuro\n"
     ]
    }
   ],
   "source": [
    "texto = texts[0]\n",
    "\n",
    "texto_ready = [word.lower() for word in nltk.word_tokenize(texto) if word not in stop_words]\n",
    "\n",
    "for word in texto_ready:\n",
    "    if word in test:\n",
    "        test[word]()"
   ]
  }
 ],
 "metadata": {
  "kernelspec": {
   "display_name": "Python 3.10.5 64-bit",
   "language": "python",
   "name": "python3"
  },
  "language_info": {
   "codemirror_mode": {
    "name": "ipython",
    "version": 3
   },
   "file_extension": ".py",
   "mimetype": "text/x-python",
   "name": "python",
   "nbconvert_exporter": "python",
   "pygments_lexer": "ipython3",
   "version": "3.10.5"
  },
  "orig_nbformat": 4,
  "vscode": {
   "interpreter": {
    "hash": "6f0bd03cbeb5a1636823079604d3f3fdd20cac66e4b3baf84d6a6f3fe8cf4933"
   }
  }
 },
 "nbformat": 4,
 "nbformat_minor": 2
}
